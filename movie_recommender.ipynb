{
  "nbformat": 4,
  "nbformat_minor": 0,
  "metadata": {
    "colab": {
      "provenance": [],
      "authorship_tag": "ABX9TyNE1BKUhIrnJwfZ0wPvbcSl",
      "include_colab_link": true
    },
    "kernelspec": {
      "name": "python3",
      "display_name": "Python 3"
    },
    "language_info": {
      "name": "python"
    }
  },
  "cells": [
    {
      "cell_type": "markdown",
      "metadata": {
        "id": "view-in-github",
        "colab_type": "text"
      },
      "source": [
        "<a href=\"https://colab.research.google.com/github/Angrygourav/movie-recommender/blob/main/movie_recommender.ipynb\" target=\"_parent\"><img src=\"https://colab.research.google.com/assets/colab-badge.svg\" alt=\"Open In Colab\"/></a>"
      ]
    },
    {
      "cell_type": "code",
      "execution_count": 1,
      "metadata": {
        "colab": {
          "base_uri": "https://localhost:8080/"
        },
        "id": "kUvPavg7ruh7",
        "outputId": "1227fa03-6782-4ee4-ab9f-091ad14407a3"
      },
      "outputs": [
        {
          "output_type": "stream",
          "name": "stdout",
          "text": [
            "Ratings head:\n",
            "   userId  movieId  rating  timestamp\n",
            "0     196      242       3  881250949\n",
            "1     186      302       3  891717742\n",
            "2      22      377       1  878887116\n",
            "3     244       51       2  880606923\n",
            "4     166      346       1  886397596\n",
            "(100000, 4) Index(['userId', 'movieId', 'rating', 'timestamp'], dtype='object')\n"
          ]
        }
      ],
      "source": [
        "import pandas as pd\n",
        "# u.data is tab-separated, no header\n",
        "df = pd.read_csv('/content/u.data', sep='\\t', names=['userId', 'movieId', 'rating', 'timestamp'])\n",
        "print(\"Ratings head:\")\n",
        "print(df.head())\n",
        "print(df.shape,df.columns,)"
      ]
    }
  ]
}